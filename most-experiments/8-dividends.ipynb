{
 "cells": [
  {
   "cell_type": "code",
   "execution_count": null,
   "id": "8690467c",
   "metadata": {},
   "outputs": [],
   "source": [
    "import pandas as pd\n",
    "import yfinance as yf\n",
    "from datetime import datetime, timedelta\n",
    "from openbb import obb"
   ]
  },
  {
   "cell_type": "code",
   "execution_count": null,
   "id": "15892dd8",
   "metadata": {},
   "outputs": [],
   "source": [
    "obb.user.preferences.output_type = \"dataframe\""
   ]
  },
  {
   "cell_type": "code",
   "execution_count": null,
   "id": "d206f38e",
   "metadata": {},
   "outputs": [],
   "source": [
    "dax_tickers = [\n",
    "    \"ADS.DE\", \"ALV.DE\", \"BAS.DE\", \"BAYN.DE\", \"BEI.DE\", \"BMW.DE\", \"BNR.DE\", \"CON.DE\",\n",
    "    \"1COV.DE\", \"DAI.DE\", \"DHER.DE\", \"DB1.DE\", \"DBK.DE\", \"DTE.DE\", \"EOAN.DE\", \"FME.DE\",\n",
    "    \"FRE.DE\", \"HEI.DE\", \"HEN3.DE\", \"IFX.DE\", \"LIN.DE\", \"MRK.DE\", \"MTX.DE\", \"MUV2.DE\",\n",
    "    \"PUM.DE\", \"QIA.DE\", \"RWE.DE\", \"SAP.DE\", \"SIE.DE\", \"SY1.DE\", \"SHL.DE\", \"VNA.DE\",\n",
    "    \"VOW3.DE\", \"ZAL.DE\", \"MBG.DE\", \"HNR1.DE\", \"SRT3.DE\", \"NDA.DE\", \"DWNI.DE\"\n",
    "]"
   ]
  },
  {
   "cell_type": "code",
   "execution_count": null,
   "metadata": {},
   "outputs": [],
   "source": [
    "def get_stock_data(ticker):\n",
    "    return obb.equity.price.historical(ticker, start_date=\"2000-01-01\", provider=\"yfinance\")\n",
    "\n",
    "def _avg_per_time(df, start_date, end_date):\n",
    "    return df[start_date:end_date][\"close\"].mean()\n",
    "\n"
   ]
  },
  {
   "cell_type": "code",
   "execution_count": null,
   "metadata": {},
   "outputs": [],
   "source": [
    "for tckr in dax_tickers:\n",
    "    try: \n",
    "        stock_data = get_stock_data(tckr)\n",
    "        dividends = obb.equity.fundamental.dividends(symbol=tckr, provider=\"yfinance\")\n",
    "    except:\n",
    "        print(\"Skipped \", tckr)\n",
    "        continue\n",
    "\n",
    "    for dividend_date in dividends[\"ex_dividend_date\"]:\n",
    "        dividends.loc[dividends[\"ex_dividend_date\"] == dividend_date, \"price\"] = _avg_per_time(stock_data, dividend_date - timedelta(days=8), dividend_date  - timedelta(days=1))   \n",
    "    dividends[\"div_percentage\"] = dividends[\"amount\"] / dividends[\"price\"]\n",
    "    div_year = dividends.groupby(dividends[\"ex_dividend_date\"].astype(\"str\").str[:4])[\"div_percentage\"].sum().reset_index()\n",
    "    if ((div_year[\"div_percentage\"].iloc[-1] > 0.03) and \n",
    "        (div_year[\"div_percentage\"].iloc[-1] >= div_year[\"div_percentage\"].iloc[-2]) and\n",
    "        (div_year[\"div_percentage\"].iloc[-2] >= div_year[\"div_percentage\"].iloc[-3])):\n",
    "        print(tckr)"
   ]
  },
  {
   "cell_type": "code",
   "execution_count": null,
   "id": "f7b8cdcf",
   "metadata": {},
   "outputs": [],
   "source": [
    "def crit_high_yield():\n",
    "    pass\n",
    "\n",
    "def crit_stock_momentum():\n",
    "    pass\n",
    "\n",
    "def crit_bull_market():\n",
    "    pass\n",
    "\n",
    "def exit_dividend():\n",
    "    # dividend drops. \n",
    "    pass\n",
    "\n",
    "def exit_trending():\n",
    "    # stock stops trending / loses momentum\n",
    "    # TODO handle ex-dividend drop\n",
    "    pass\n",
    "\n",
    "def crit_payout_ratio():\n",
    "    # max payout ratio from 70%\n",
    "    pass\n"
   ]
  },
  {
   "cell_type": "code",
   "execution_count": null,
   "id": "b80fa6f6",
   "metadata": {},
   "outputs": [],
   "source": []
  }
 ],
 "metadata": {
  "kernelspec": {
   "display_name": "most_pymc",
   "language": "python",
   "name": "python3"
  },
  "language_info": {
   "codemirror_mode": {
    "name": "ipython",
    "version": 3
   },
   "file_extension": ".py",
   "mimetype": "text/x-python",
   "name": "python",
   "nbconvert_exporter": "python",
   "pygments_lexer": "ipython3",
   "version": "3.12.6"
  }
 },
 "nbformat": 4,
 "nbformat_minor": 5
}
