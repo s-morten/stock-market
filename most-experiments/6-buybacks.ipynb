{
 "cells": [
  {
   "cell_type": "code",
   "execution_count": null,
   "id": "37a69226",
   "metadata": {},
   "outputs": [],
   "source": [
    "import pandas as pd\n",
    "import yfinance as yf\n",
    "from datetime import datetime, timedelta\n",
    "from openbb import obb"
   ]
  },
  {
   "cell_type": "code",
   "execution_count": null,
   "id": "0f32bbb9",
   "metadata": {},
   "outputs": [],
   "source": [
    "obb.user.preferences.output_type = \"dataframe\""
   ]
  },
  {
   "cell_type": "code",
   "execution_count": null,
   "id": "f84e9774",
   "metadata": {},
   "outputs": [],
   "source": [
    "dax_tickers = [\n",
    "    \"ADS.DE\", \"ALV.DE\", \"BAS.DE\", \"BAYN.DE\", \"BEI.DE\", \"BMW.DE\", \"BNR.DE\", \"CON.DE\",\n",
    "    \"1COV.DE\", \"DAI.DE\", \"DHER.DE\", \"DB1.DE\", \"DBK.DE\", \"DTE.DE\", \"EOAN.DE\", \"FME.DE\",\n",
    "    \"FRE.DE\", \"HEI.DE\", \"HEN3.DE\", \"IFX.DE\", \"LIN.DE\", \"MRK.DE\", \"MTX.DE\", \"MUV2.DE\",\n",
    "    \"PUM.DE\", \"QIA.DE\", \"RWE.DE\", \"SAP.DE\", \"SIE.DE\", \"SY1.DE\", \"SHL.DE\", \"VNA.DE\",\n",
    "    \"VOW3.DE\", \"ZAL.DE\", \"MBG.DE\", \"HNR1.DE\", \"SRT3.DE\", \"NDA.DE\", \"DWNI.DE\"\n",
    "]"
   ]
  },
  {
   "cell_type": "code",
   "execution_count": null,
   "id": "333e8a43",
   "metadata": {},
   "outputs": [],
   "source": []
  },
  {
   "cell_type": "code",
   "execution_count": null,
   "id": "810dc946",
   "metadata": {},
   "outputs": [],
   "source": [
    "def get_stock_data(ticker):\n",
    "    return obb.equity.price.historical(ticker, start_date=\"2014-01-01\", provider=\"yfinance\")\n",
    "\n",
    "get_stock_data(\"ADS.DE\")"
   ]
  },
  {
   "cell_type": "code",
   "execution_count": null,
   "id": "a9ebdc7a",
   "metadata": {},
   "outputs": [],
   "source": [
    "fundamentals_df = obb.equity.fundamental.income(symbol=\"ADS.DE\", provider=\"yfinance\")"
   ]
  },
  {
   "cell_type": "code",
   "execution_count": null,
   "id": "698d0cfa",
   "metadata": {},
   "outputs": [],
   "source": [
    "fundamentals_df"
   ]
  },
  {
   "cell_type": "code",
   "execution_count": null,
   "id": "04503c02",
   "metadata": {},
   "outputs": [],
   "source": [
    "data = obb.equity.fundamental.income(\n",
    "    symbol=\"AAPL\", \n",
    "    provider=\"yfinance\", \n",
    "    period=\"quarter\", \n",
    "    limit=5  # 10 years of data (quarterly)\n",
    ")\n",
    "\n",
    "df = data\n",
    "\n",
    "# Look for columns like this:\n",
    "if \"weighted_average_basic_shares_outstanding\" in df.columns:\n",
    "    df = df[[\"date\", \"weighted_average_basic_shares_outstanding\"]]\n",
    "    df[\"date\"] = pd.to_datetime(df[\"date\"])\n",
    "    df = df.set_index(\"date\").sort_index()\n",
    "    df.plot(title=\"Shares Outstanding Over Time\")"
   ]
  },
  {
   "cell_type": "code",
   "execution_count": null,
   "id": "d7680f23",
   "metadata": {},
   "outputs": [],
   "source": [
    "df"
   ]
  },
  {
   "cell_type": "code",
   "execution_count": null,
   "id": "9d81d599",
   "metadata": {},
   "outputs": [],
   "source": [
    "def get_shares_outstanding(ticker):\n",
    "    try:\n",
    "        fundamentals_df = obb.equity.fundamental.balance(ticker=ticker, period=\"annual\", limit=150)\n",
    "        if fundamentals_df is None or fundamentals_df.empty:\n",
    "            return None\n",
    "        shares_df = fundamentals_df[fundamentals_df[\"Metric\"].str.contains(\"Shares\", case=False)]\n",
    "        shares_df = shares_df.set_index(\"Metric\").T\n",
    "        shares_df.index = pd.to_datetime(shares_df.index)\n",
    "        shares_df.columns = [\"Shares Outstanding\"]\n",
    "        return shares_df\n",
    "    except Exception as e:\n",
    "        print(f\"Failed to get shares for {ticker}: {e}\")\n",
    "        return None\n",
    "    \n",
    "get_shares_outstanding(\"ADS.DE\")"
   ]
  },
  {
   "cell_type": "code",
   "execution_count": null,
   "id": "0952dc60",
   "metadata": {},
   "outputs": [],
   "source": [
    "# Step 3: Get shares outstanding data\n",
    "\n",
    "\n",
    "# Step 4: Detect buybacks\n",
    "def detect_buybacks(shares_df):\n",
    "    shares_df = shares_df.dropna().sort_index()\n",
    "    shares_df['change'] = shares_df['Shares Outstanding'].pct_change()\n",
    "    buybacks = shares_df[shares_df['change'] < -0.01]  # >1% drop\n",
    "    return buybacks\n",
    "\n",
    "# Step 5: Calculate forward returns\n",
    "def calculate_returns(ticker, buyback_dates):\n",
    "    returns = []\n",
    "    price_df = get_stock_data(ticker)\n",
    "    price_df = price_df.set_index('date')\n",
    "    price_df.index = pd.to_datetime(price_df.index)\n",
    "\n",
    "    for date in buyback_dates:\n",
    "        date = pd.to_datetime(date)\n",
    "        base_price = price_df.loc[date:date + timedelta(days=15)]['adj_close'].head(1).values\n",
    "        if base_price.size == 0:\n",
    "            continue\n",
    "        base_price = base_price[0]\n",
    "\n",
    "        def get_future_return(months):\n",
    "            future_date = date + pd.DateOffset(months=months)\n",
    "            future_price = price_df.loc[future_date:future_date + timedelta(days=15)]['adj_close'].head(1).values\n",
    "            if future_price.size == 0:\n",
    "                return None\n",
    "            return (future_price[0] - base_price) / base_price\n",
    "\n",
    "        returns.append({\n",
    "            \"ticker\": ticker,\n",
    "            \"buyback_date\": date,\n",
    "            \"return_3m\": get_future_return(3),\n",
    "            \"return_6m\": get_future_return(6),\n",
    "            \"return_12m\": get_future_return(12)\n",
    "        })\n",
    "\n",
    "    return returns\n",
    "\n",
    "# Step 6: Get SPY returns\n",
    "def get_spy_returns(reference_dates):\n",
    "    spy = yf.download(\"SPY\", start=\"2014-01-01\", interval=\"1mo\")['Adj Close']\n",
    "    spy.index = pd.to_datetime(spy.index)\n",
    "    returns = []\n",
    "    for date in reference_dates:\n",
    "        date = pd.to_datetime(date)\n",
    "        if date not in spy.index:\n",
    "            date = spy.index[spy.index.get_loc(date, method='bfill')]\n",
    "        base_price = spy.loc[date]\n",
    "\n",
    "        def get_return(months):\n",
    "            future_date = date + pd.DateOffset(months=months)\n",
    "            future_date = spy.index[spy.index.get_loc(future_date, method='bfill')]\n",
    "            return (spy.loc[future_date] - base_price) / base_price\n",
    "\n",
    "        returns.append({\n",
    "            \"date\": date,\n",
    "            \"spy_return_3m\": get_return(3),\n",
    "            \"spy_return_6m\": get_return(6),\n",
    "            \"spy_return_12m\": get_return(12),\n",
    "        })\n",
    "    return pd.DataFrame(returns)\n",
    "\n",
    "# Main pipeline\n",
    "def run_analysis():\n",
    "    results = []\n",
    "    dax_tickers = get_dax_tickers()\n",
    "\n",
    "    for ticker in dax_tickers:\n",
    "        try:\n",
    "            shares_df = get_shares_outstanding(ticker)\n",
    "            if shares_df is None or shares_df.empty:\n",
    "                continue\n",
    "            buybacks = detect_buybacks(shares_df)\n",
    "            if buybacks.empty:\n",
    "                continue\n",
    "            returns = calculate_returns(ticker, buybacks.index)\n",
    "            results.extend(returns)\n",
    "        except Exception as e:\n",
    "            print(f\"Error processing {ticker}: {e}\")\n",
    "\n",
    "    result_df = pd.DataFrame(results)\n",
    "    if not result_df.empty:\n",
    "        spy_comp = get_spy_returns(result_df['buyback_date'])\n",
    "        merged = pd.merge(result_df, spy_comp, left_on='buyback_date', right_on='date', how='left')\n",
    "        return merged\n",
    "\n",
    "# Run and export to CSV\n",
    "df_result = run_analysis()\n",
    "if df_result is not None:\n",
    "    df_result.to_csv(\"dax_buybacks_vs_spy.csv\", index=False)\n",
    "    print(df_result.head())\n",
    "else:\n",
    "    print(\"No buybacks found.\")"
   ]
  },
  {
   "cell_type": "code",
   "execution_count": null,
   "id": "95468075",
   "metadata": {},
   "outputs": [],
   "source": []
  }
 ],
 "metadata": {
  "kernelspec": {
   "display_name": "most_pymc",
   "language": "python",
   "name": "python3"
  },
  "language_info": {
   "codemirror_mode": {
    "name": "ipython",
    "version": 3
   },
   "file_extension": ".py",
   "mimetype": "text/x-python",
   "name": "python",
   "nbconvert_exporter": "python",
   "pygments_lexer": "ipython3",
   "version": "3.12.6"
  }
 },
 "nbformat": 4,
 "nbformat_minor": 5
}
