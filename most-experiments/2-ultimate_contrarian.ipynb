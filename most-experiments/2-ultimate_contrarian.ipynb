{
 "cells": [
  {
   "cell_type": "code",
   "execution_count": null,
   "id": "3ea35be9",
   "metadata": {},
   "outputs": [],
   "source": [
    "import pandas as pd\n",
    "import yfinance as yf\n",
    "import numpy as np\n",
    "from datetime import datetime\n",
    "from time import sleep"
   ]
  },
  {
   "cell_type": "code",
   "execution_count": null,
   "id": "3e6f459d",
   "metadata": {},
   "outputs": [],
   "source": [
    "short_data = pd.read_csv(\"most-experiments/media/ultimate_contra.csv\", sep=\",\")"
   ]
  },
  {
   "cell_type": "code",
   "execution_count": null,
   "id": "96edd17f",
   "metadata": {},
   "outputs": [],
   "source": [
    "short_data[\"Date\"] = short_data[\"Date\"].astype(\"datetime64[ns]\")"
   ]
  },
  {
   "cell_type": "code",
   "execution_count": null,
   "id": "0e5c15a0",
   "metadata": {},
   "outputs": [],
   "source": [
    "short_data.groupby(\"Ticker\").first()"
   ]
  },
  {
   "cell_type": "code",
   "execution_count": null,
   "id": "44a7efa0",
   "metadata": {},
   "outputs": [],
   "source": [
    "short_data.groupby(\"Ticker\").first().reset_index().values[:, :2]"
   ]
  },
  {
   "cell_type": "code",
   "execution_count": null,
   "id": "d6a049a5",
   "metadata": {},
   "outputs": [],
   "source": [
    "prices = {}\n",
    "for ticker, start_date in short_data.groupby(\"Ticker\").first().reset_index().values[:, :2]:\n",
    "    data = yf.download(ticker, start=start_date, end=datetime.now(), interval=\"1wk\")\n",
    "    prices[ticker] = data\n",
    "    sleep(1)"
   ]
  },
  {
   "cell_type": "code",
   "execution_count": null,
   "id": "c77ec324",
   "metadata": {},
   "outputs": [],
   "source": [
    "results = {}\n",
    "for ticker in short_data.Ticker.unique():\n",
    "    # print(ticker)\n",
    "    short_data_filter = short_data[short_data[\"Ticker\"] == ticker]\n",
    "    ticker_price = prices[ticker][\"Close\"] / prices[ticker][\"Close\"].shift(1)\n",
    "    ticker_price[ticker] = ticker_price[ticker].shift(-1)\n",
    "    ticker_price[\"invest\"] = 0\n",
    "    for d in short_data_filter.values[:, :1]:\n",
    "        # print(d)\n",
    "        d = d[0]\n",
    "        ticker_price.loc[ticker_price[ticker_price.index >= d].index[0], \"invest\"] = 1\n",
    "        # display(ticker_price)\n",
    "        ticker_price[\"cum_sum\"] = ticker_price[\"invest\"].cumsum()\n",
    "        inv = 0\n",
    "        inv_a = []\n",
    "        for row in ticker_price.iterrows():\n",
    "            inv += row[1][\"invest\"]\n",
    "            inv *= row[1][ticker] if pd.notna(row[1][ticker]) else 1\n",
    "            inv_a.append(inv)\n",
    "        ticker_price[\"return\"] = inv_a\n",
    "        ticker_price[\"Contrarian\"] = ((ticker_price[\"return\"] / ticker_price[\"cum_sum\"]) -1) * 100\n",
    "        results[ticker] = ticker_price"
   ]
  },
  {
   "cell_type": "code",
   "execution_count": null,
   "id": "2a7058f4",
   "metadata": {},
   "outputs": [],
   "source": [
    "import plotly.express as px"
   ]
  },
  {
   "cell_type": "code",
   "execution_count": null,
   "id": "96388204",
   "metadata": {},
   "outputs": [],
   "source": [
    "# Combine all DataFrames into one with a 'strategy' column\n",
    "combined_df = pd.concat(\n",
    "    [df.assign(strategy=t) for t, df in results.items()]\n",
    ")\n",
    "\n",
    "# Plot all lines in one figure\n",
    "fig = px.line(combined_df, x=combined_df.index, y=\"Contrarian\", color=\"strategy\", title=\"Return Percentage by Strategy\", template=\"plotly_dark\")\n",
    "fig.show()"
   ]
  },
  {
   "cell_type": "code",
   "execution_count": null,
   "id": "d8d25a36",
   "metadata": {},
   "outputs": [],
   "source": [
    "combined_df"
   ]
  },
  {
   "cell_type": "code",
   "execution_count": null,
   "id": "326b5ca5",
   "metadata": {},
   "outputs": [],
   "source": [
    "spy = data = yf.download('SPY', start='2024-03-11', end='2025-04-23', interval=\"1wk\")"
   ]
  },
  {
   "cell_type": "code",
   "execution_count": null,
   "id": "dfab506d",
   "metadata": {},
   "outputs": [],
   "source": [
    "spy[\"gain\"] = spy[\"Close\"][\"SPY\"] / spy[\"Close\"][\"SPY\"].shift(1)"
   ]
  },
  {
   "cell_type": "code",
   "execution_count": null,
   "id": "a52baba4",
   "metadata": {},
   "outputs": [],
   "source": [
    "inv_spy = 1\n",
    "inv_spy_a = []\n",
    "for g in spy[\"gain\"].values: \n",
    "    inv_spy *= g if pd.notna(g) else 1\n",
    "    inv_spy_a.append(inv_spy)"
   ]
  },
  {
   "cell_type": "code",
   "execution_count": null,
   "id": "b6dbea03",
   "metadata": {},
   "outputs": [],
   "source": [
    "plot_compare = combined_df.groupby(\"Date\")[\"Contrarian\"].mean().reset_index()\n",
    "plot_compare[\"SPY\"] = (np.array(inv_spy_a) - 1) * 100 "
   ]
  },
  {
   "cell_type": "code",
   "execution_count": null,
   "id": "e6831c17",
   "metadata": {},
   "outputs": [],
   "source": [
    "px.line(plot_compare, x=\"Date\", y=[\"SPY\", \"Contrarian\"], template=\"plotly_dark\", labels={\"value\": \"Percentage Gain\", \"variable\": \"Strategy\"})\n",
    "# px.scatter(plot_compare, x=\"Date\", y=[\"SPY\", \"Contrarian\"], template=\"plotly_dark\", labels={\"value\": \"Percentage Gain\", \"variable\": \"Strategy\"})"
   ]
  },
  {
   "cell_type": "markdown",
   "id": "6c204f1f",
   "metadata": {},
   "source": [
    "---"
   ]
  },
  {
   "cell_type": "code",
   "execution_count": null,
   "id": "e2cbc2d1",
   "metadata": {},
   "outputs": [],
   "source": [
    "combined_df.groupby(\"strategy\").last().reset_index().sort_values(\"Contrarian\", ascending=False)"
   ]
  },
  {
   "cell_type": "code",
   "execution_count": null,
   "id": "7c4c8252",
   "metadata": {},
   "outputs": [],
   "source": []
  },
  {
   "cell_type": "code",
   "execution_count": null,
   "id": "b259bc1d",
   "metadata": {},
   "outputs": [],
   "source": [
    "port = combined_df.groupby(\"strategy\").last().reset_index()\n",
    "c = dict(zip(port[\"strategy\"].unique(), px.colors.qualitative.Dark24))\n",
    "fig = px.pie(port, values=\"cum_sum\", names=\"strategy\", template=\"plotly_dark\", color=\"strategy\", color_discrete_map=c)\n",
    "fig.update_traces(textposition='inside', textinfo='percent+label')\n",
    "fig.show()"
   ]
  },
  {
   "cell_type": "code",
   "execution_count": null,
   "id": "68bbcd89",
   "metadata": {},
   "outputs": [],
   "source": [
    "fig = px.pie(port, values=\"return\", names=\"strategy\", template=\"plotly_dark\", color=\"strategy\", color_discrete_map=c)\n",
    "fig.update_traces(textposition='inside', textinfo='percent+label')\n",
    "fig.show()"
   ]
  },
  {
   "cell_type": "code",
   "execution_count": null,
   "id": "e94250fb",
   "metadata": {},
   "outputs": [],
   "source": [
    "port = combined_df.groupby(\"strategy\").last().reset_index()\n",
    "port[\"initial_perc\"] = port[\"cum_sum\"] / port[\"cum_sum\"].sum()\n",
    "port[\"port_perc\"] = port[\"return\"] / port[\"return\"].sum()"
   ]
  },
  {
   "cell_type": "code",
   "execution_count": null,
   "id": "bb287093",
   "metadata": {},
   "outputs": [],
   "source": [
    "port_a = port[[\"strategy\", \"initial_perc\"]].rename(columns={\"initial_perc\": \"perc\"})\n",
    "port_a[\"a\"] = \"initial\"\n",
    "\n",
    "port_b = port[[\"strategy\", \"port_perc\"]].rename(columns={\"port_perc\": \"perc\"})\n",
    "port_b[\"a\"] = \"return\"\n",
    "\n",
    "port = pd.concat([port_a, port_b])\n",
    "port"
   ]
  },
  {
   "cell_type": "code",
   "execution_count": null,
   "id": "0508af29",
   "metadata": {},
   "outputs": [],
   "source": [
    "fig = px.area(port, x=\"a\", y=\"perc\", color=\"strategy\", template=\"plotly_dark\")\n",
    "#fig.update_traces(textposition='inside', textinfo='percent+label')\n",
    "fig.show()"
   ]
  },
  {
   "cell_type": "markdown",
   "id": "2596b572",
   "metadata": {},
   "source": [
    "----"
   ]
  },
  {
   "cell_type": "code",
   "execution_count": null,
   "id": "1a1497f4",
   "metadata": {},
   "outputs": [],
   "source": [
    "results_cut_looser = {}\n",
    "for ticker in short_data.Ticker.unique():\n",
    "    # print(ticker)\n",
    "    short_data_filter = short_data[short_data[\"Ticker\"] == ticker]\n",
    "    ticker_price = prices[ticker][\"Close\"] / prices[ticker][\"Close\"].shift(1)\n",
    "    ticker_price[ticker] = ticker_price[ticker].shift(-1)\n",
    "    ticker_price[\"invest\"] = 0\n",
    "    for d in short_data_filter.values[:, :1]:\n",
    "        # print(d)\n",
    "        d = d[0]\n",
    "        ticker_price.loc[ticker_price[ticker_price.index >= d].index[0], \"invest\"] = 1\n",
    "        # display(ticker_price)\n",
    "        ticker_price[\"cum_sum\"] = ticker_price[\"invest\"].cumsum()\n",
    "        inv = 0\n",
    "        inv_a = []\n",
    "        for row in ticker_price.iterrows():\n",
    "            inv += row[1][\"invest\"]\n",
    "            inv *= row[1][ticker] if pd.notna(row[1][ticker]) else 1\n",
    "            inv_a.append(inv)\n",
    "        \n",
    "        ticker_price[\"return\"] = inv_a\n",
    "        ticker_price[\"return_perc\"] = ((ticker_price[\"return\"] / ticker_price[\"cum_sum\"]) -1) * 100\n",
    "        stop_loss = ticker_price[\"return_perc\"].values\n",
    "        for i, a in enumerate(stop_loss):\n",
    "            if a < -20:\n",
    "                stop_loss[i:] = [a] * (len(stop_loss) - i)\n",
    "                break\n",
    "        ticker_price[\"return_perc\"] = stop_loss\n",
    "        results_cut_looser[ticker] = ticker_price"
   ]
  },
  {
   "cell_type": "code",
   "execution_count": null,
   "id": "d7cda425",
   "metadata": {},
   "outputs": [],
   "source": [
    "results_cut_looser[\"MRNA\"]"
   ]
  },
  {
   "cell_type": "code",
   "execution_count": null,
   "id": "d4da3784",
   "metadata": {},
   "outputs": [],
   "source": [
    "# Combine all DataFrames into one with a 'strategy' column\n",
    "combined_df = pd.concat(\n",
    "    [df.assign(strategy=t) for t, df in results_cut_looser.items()]\n",
    ")\n",
    "\n",
    "# Plot all lines in one figure\n",
    "fig = px.line(combined_df, x=combined_df.index, y=\"return_perc\", color=\"strategy\", title=\"Return Percentage by Strategy\")\n",
    "fig.show()"
   ]
  },
  {
   "cell_type": "code",
   "execution_count": null,
   "id": "42d9a89d",
   "metadata": {},
   "outputs": [],
   "source": [
    "plot_compare = combined_df.groupby(\"Date\")[\"return_perc\"].mean().reset_index()\n",
    "plot_compare[\"SPY\"] = (np.array(inv_spy_a) - 1) * 100 "
   ]
  },
  {
   "cell_type": "code",
   "execution_count": null,
   "id": "cafdab93",
   "metadata": {},
   "outputs": [],
   "source": [
    "px.line(plot_compare, x=\"Date\", y=[\"SPY\", \"return_perc\"])"
   ]
  },
  {
   "cell_type": "code",
   "execution_count": null,
   "id": "1e5199b3",
   "metadata": {},
   "outputs": [],
   "source": []
  }
 ],
 "metadata": {
  "kernelspec": {
   "display_name": "most_pymc",
   "language": "python",
   "name": "python3"
  },
  "language_info": {
   "codemirror_mode": {
    "name": "ipython",
    "version": 3
   },
   "file_extension": ".py",
   "mimetype": "text/x-python",
   "name": "python",
   "nbconvert_exporter": "python",
   "pygments_lexer": "ipython3",
   "version": "3.12.6"
  }
 },
 "nbformat": 4,
 "nbformat_minor": 5
}
