{
 "cells": [
  {
   "cell_type": "code",
   "execution_count": null,
   "metadata": {},
   "outputs": [],
   "source": [
    "import yfinance as yf\n",
    "import pandas as pd"
   ]
  },
  {
   "cell_type": "code",
   "execution_count": null,
   "metadata": {},
   "outputs": [],
   "source": [
    "# Download daily data for SPY (S&P 500 ETF) since 2010\n",
    "data = yf.download('SPY', start='2010-01-01', end='2025-04-09')"
   ]
  },
  {
   "cell_type": "code",
   "execution_count": null,
   "metadata": {},
   "outputs": [],
   "source": [
    "data"
   ]
  },
  {
   "cell_type": "code",
   "execution_count": null,
   "metadata": {},
   "outputs": [],
   "source": [
    "data[\"daily_change\"] = data[\"Close\"]['SPY'] / data['Open']['SPY']"
   ]
  },
  {
   "cell_type": "code",
   "execution_count": null,
   "metadata": {},
   "outputs": [],
   "source": [
    "data_prev_day = data.shift(1)"
   ]
  },
  {
   "cell_type": "code",
   "execution_count": null,
   "metadata": {},
   "outputs": [],
   "source": [
    "data[\"change\"] = data[\"Close\"]['SPY'] / data_prev_day[\"Close\"]['SPY']"
   ]
  },
  {
   "cell_type": "code",
   "execution_count": null,
   "metadata": {},
   "outputs": [],
   "source": [
    "data = data.fillna({('change', ''): 1})"
   ]
  },
  {
   "cell_type": "code",
   "execution_count": null,
   "metadata": {},
   "outputs": [],
   "source": [
    "data[\"month_start\"] = (pd.Series(data.index).dt.month != pd.Series(data.index).shift().dt.month).astype(int).values * 200"
   ]
  },
  {
   "cell_type": "code",
   "execution_count": null,
   "metadata": {},
   "outputs": [],
   "source": [
    "total_invest = 1000\n",
    "\n",
    "money = 1000\n",
    "moneys = []\n",
    "for x, y in zip(data[\"change\"].values, data[\"month_start\"].values):\n",
    "    total_invest = total_invest + y\n",
    "    money = money * x\n",
    "    money = money + y\n",
    "    moneys.append(money)\n",
    "\n",
    "data[\"val\"] = moneys"
   ]
  },
  {
   "cell_type": "code",
   "execution_count": null,
   "metadata": {},
   "outputs": [],
   "source": [
    "dailys = []\n",
    "daily = 10\n",
    "daily_mult = 1\n",
    "for x in data[\"daily_change\"].values:\n",
    "    if x >= 1:\n",
    "        daily_mult += 1\n",
    "        dailys.append(0)\n",
    "    else:\n",
    "        daily_quota = daily * daily_mult\n",
    "        dailys.append(daily_quota)\n",
    "        daily_mult = 1\n",
    "\n",
    "data[\"daily_invest\"] = dailys"
   ]
  },
  {
   "cell_type": "code",
   "execution_count": null,
   "metadata": {},
   "outputs": [],
   "source": [
    "dailys = []\n",
    "daily = 10\n",
    "daily_mult = 1\n",
    "for x in data[\"daily_change\"].values:\n",
    "    if x < 1:\n",
    "        daily_mult += 1\n",
    "        dailys.append(0)\n",
    "    else:\n",
    "        daily_quota = daily * daily_mult\n",
    "        dailys.append(daily_quota)\n",
    "        daily_mult = 1\n",
    "\n",
    "data[\"daily_invest_high\"] = dailys"
   ]
  },
  {
   "cell_type": "code",
   "execution_count": null,
   "metadata": {},
   "outputs": [],
   "source": [
    "total_invest = 1000\n",
    "\n",
    "money = 1000\n",
    "moneys = []\n",
    "for x, y in zip(data[\"change\"].values, data[\"daily_invest\"].values):\n",
    "    total_invest = total_invest + y\n",
    "    money = money * x\n",
    "    money = money + y\n",
    "    moneys.append(money)\n",
    "\n",
    "data[\"val_daily\"] = moneys"
   ]
  },
  {
   "cell_type": "code",
   "execution_count": null,
   "metadata": {},
   "outputs": [],
   "source": [
    "total_invest = 1000\n",
    "\n",
    "money = 1000\n",
    "moneys = []\n",
    "for x, y in zip(data[\"change\"].values, data[\"daily_invest_high\"].values):\n",
    "    total_invest = total_invest + y\n",
    "    money = money * x\n",
    "    money = money + y\n",
    "    moneys.append(money)\n",
    "\n",
    "data[\"val_daily_high\"] = moneys"
   ]
  },
  {
   "cell_type": "code",
   "execution_count": null,
   "metadata": {},
   "outputs": [],
   "source": [
    "data[\"down_day\"] = ((data[\"val_daily\"] / (1000 + data[\"daily_invest\"].cumsum())) - 1) * 100\n",
    "data[\"up_day\"] = ((data[\"val_daily_high\"] / (1000 + data[\"daily_invest_high\"].cumsum())) - 1) * 100\n",
    "data[\"dca\"]  = ((data[\"val\"] / (1000 + data[\"month_start\"].cumsum())) - 1) * 100"
   ]
  },
  {
   "cell_type": "code",
   "execution_count": null,
   "metadata": {},
   "outputs": [],
   "source": [
    "data.tail()\n"
   ]
  },
  {
   "cell_type": "code",
   "execution_count": null,
   "metadata": {},
   "outputs": [],
   "source": [
    "import plotly.express as px\n",
    "\n",
    "label_map = {\n",
    "    'dca': 'DCA',\n",
    "    'down_day': 'Down Day',\n",
    "    'up_day': 'Up Day'\n",
    "}\n",
    "\n",
    "fig = px.line(data, x=data.index, y=[\"dca\", \"down_day\"], title=\"Percentage Change\", template=\"plotly_dark\", #\"up_day\"\n",
    "              labels={\"value\": \"Percentage Gain\", \"variable\": \"Legend\"}\n",
    "              )\n",
    "\n",
    "fig.for_each_trace(\n",
    "    lambda t: t.update(name=label_map[t.name], legendgroup=label_map[t.name], hovertemplate=t.hovertemplate.replace(t.name, label_map[t.name]))\n",
    ")\n",
    "fig.show()"
   ]
  },
  {
   "cell_type": "code",
   "execution_count": null,
   "metadata": {},
   "outputs": [],
   "source": [
    "import plotly.express as px\n",
    "\n",
    "fig = px.line(data, x=data.index, y=[\"val\", \"val_daily\"], title=\"Stock Price\")\n",
    "fig.show()"
   ]
  },
  {
   "cell_type": "code",
   "execution_count": null,
   "metadata": {},
   "outputs": [],
   "source": [
    "data[\"month_start\"].sum()"
   ]
  },
  {
   "cell_type": "code",
   "execution_count": null,
   "metadata": {},
   "outputs": [],
   "source": [
    "data[\"daily_invest\"].sum()"
   ]
  },
  {
   "cell_type": "code",
   "execution_count": null,
   "metadata": {},
   "outputs": [],
   "source": []
  }
 ],
 "metadata": {
  "kernelspec": {
   "display_name": "most_pymc",
   "language": "python",
   "name": "python3"
  },
  "language_info": {
   "codemirror_mode": {
    "name": "ipython",
    "version": 3
   },
   "file_extension": ".py",
   "mimetype": "text/x-python",
   "name": "python",
   "nbconvert_exporter": "python",
   "pygments_lexer": "ipython3",
   "version": "3.12.6"
  }
 },
 "nbformat": 4,
 "nbformat_minor": 2
}
