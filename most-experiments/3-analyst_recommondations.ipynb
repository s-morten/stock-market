{
 "cells": [
  {
   "cell_type": "code",
   "execution_count": null,
   "id": "e472f1ff",
   "metadata": {},
   "outputs": [],
   "source": [
    "import pyro as py\n",
    "from data_retrieval.database_io import DB_handler\n",
    "import pandas as pd\n",
    "import numpy as np\n",
    "import yfinance as yf"
   ]
  },
  {
   "cell_type": "code",
   "execution_count": null,
   "id": "46ad3283",
   "metadata": {},
   "outputs": [],
   "source": [
    "def calc_return(ticker, buy_date, sell_date):\n",
    "    data = yf.download(ticker, start=buy_date, end=sell_date, interval=\"1d\")\n",
    "    data[\"close_prev\"] = data[\"Close\"][ticker].shift(1)\n",
    "    returns = [1]\n",
    "    for x in (data[\"Close\"][ticker] / data[\"close_prev\"]).values[1:]:\n",
    "        returns.append(returns[-1] * x)\n",
    "    return returns"
   ]
  },
  {
   "cell_type": "code",
   "execution_count": null,
   "id": "189235b9",
   "metadata": {},
   "outputs": [],
   "source": [
    "dbh = DB_handler()"
   ]
  },
  {
   "cell_type": "code",
   "execution_count": null,
   "id": "2e94a061",
   "metadata": {},
   "outputs": [],
   "source": [
    "start = dbh.valuations.analysis_valuations(0)"
   ]
  },
  {
   "cell_type": "code",
   "execution_count": null,
   "id": "c69af7f9",
   "metadata": {},
   "outputs": [],
   "source": [
    "targets = pd.DataFrame(start).sort_values(\"target_date\")"
   ]
  },
  {
   "cell_type": "code",
   "execution_count": null,
   "id": "41bef6cf",
   "metadata": {},
   "outputs": [],
   "source": [
    "targets[\"pred_gain\"] = targets[\"target_usd\"] / targets[\"valuation\"]"
   ]
  },
  {
   "cell_type": "code",
   "execution_count": null,
   "id": "25c50b9c",
   "metadata": {},
   "outputs": [],
   "source": [
    "# Change column type to string for column: 'target_date'\n",
    "targets = targets.astype({'target_date': 'string'})\n",
    "\n",
    "# Derive column 'month' from column: 'target_date'\n",
    "def month(target_date):\n",
    "    \"\"\"\n",
    "    Transform based on the following examples:\n",
    "       target_date     Output\n",
    "    1: \"2022-01-02\" => \"202201\"\n",
    "    \"\"\"\n",
    "    split1 = target_date.str.split(\"-\")\n",
    "    return split1.str[0] + split1.str[1]\n",
    "\n",
    "targets.insert(2, \"month\", month(targets[\"target_date\"]))"
   ]
  },
  {
   "cell_type": "code",
   "execution_count": null,
   "id": "7bfb1c4a",
   "metadata": {},
   "outputs": [],
   "source": [
    "targets = targets[targets[\"pred_gain\"] <= 2]"
   ]
  },
  {
   "cell_type": "code",
   "execution_count": null,
   "id": "0b1936ec",
   "metadata": {},
   "outputs": [],
   "source": [
    "invest = targets.sort_values(['pred_gain'], ascending=False).groupby('month').head(5)\n"
   ]
  },
  {
   "cell_type": "code",
   "execution_count": null,
   "id": "1feb562b",
   "metadata": {},
   "outputs": [],
   "source": [
    "invest.sort_values(['month'], ascending=True)"
   ]
  },
  {
   "cell_type": "code",
   "execution_count": null,
   "id": "8410357a",
   "metadata": {},
   "outputs": [],
   "source": [
    "invest = invest[invest[\"month\"] <= \"202404\"]"
   ]
  },
  {
   "cell_type": "code",
   "execution_count": null,
   "id": "3c3538c2",
   "metadata": {},
   "outputs": [],
   "source": [
    "from datetime import datetime\n",
    "from datetime import timedelta"
   ]
  },
  {
   "cell_type": "code",
   "execution_count": null,
   "id": "90cbe3a1",
   "metadata": {},
   "outputs": [],
   "source": [
    "invest"
   ]
  },
  {
   "cell_type": "code",
   "execution_count": null,
   "id": "46d25741",
   "metadata": {},
   "outputs": [],
   "source": [
    "from collections import defaultdict\n",
    "from time import sleep\n",
    "gains = defaultdict(list)\n",
    "for index, row in invest.iterrows():\n",
    "    gains[row[\"ticker\"]].append(calc_return(row[\"ticker\"], (datetime.strptime(row[\"month\"], \"%Y%m\") + timedelta(days=31)).strftime(\"%Y-%m\") + \"-01\", \"2025-04-30\"))\n",
    "    sleep(1)"
   ]
  },
  {
   "cell_type": "code",
   "execution_count": null,
   "id": "33064923",
   "metadata": {},
   "outputs": [],
   "source": [
    "longest = 0\n",
    "for ticker in gains:\n",
    "    for gain in gains[ticker]:\n",
    "        if len(gain) > longest:\n",
    "            longest = len(gain)\n",
    "            print(ticker, longest)\n",
    "gains_same_length = defaultdict(list)\n",
    "for ticker in gains:\n",
    "    for gain in gains[ticker]:\n",
    "        if len(gain) < longest:\n",
    "            # fill with None in front\n",
    "            gains_same_length[ticker].append([np.nan] * (longest - len(gain)) + gain)\n",
    "        else:\n",
    "            gains_same_length[ticker].append(gain)\n",
    "gains_together = defaultdict(list)\n",
    "for ticker in gains:\n",
    "    if len(gains[ticker]) > 1:\n",
    "        gains_together[ticker] = np.nanmean(gains_same_length[ticker], axis=0)\n",
    "    else:\n",
    "        gains_together[ticker] = gains_same_length[ticker][0]"
   ]
  },
  {
   "cell_type": "code",
   "execution_count": null,
   "id": "f7639c27",
   "metadata": {},
   "outputs": [],
   "source": [
    "arr = np.array(list(gains_together.values()))\n",
    "\n",
    "# Take the mean along axis 0 (column-wise)\n",
    "mean_vals = np.nanmean(arr, axis=0)\n"
   ]
  },
  {
   "cell_type": "code",
   "execution_count": null,
   "id": "e77b02e0",
   "metadata": {},
   "outputs": [],
   "source": [
    "spy = data = yf.download('SPY', start='2022-02-01', end='2025-05-13', interval=\"1d\")\n",
    "spy[\"gain\"] = spy[\"Close\"][\"SPY\"] / spy[\"Close\"][\"SPY\"].shift(1)\n",
    "inv_spy = 1\n",
    "inv_spy_a = []\n",
    "for g in spy[\"gain\"].values: \n",
    "    inv_spy *= g if pd.notna(g) else 1\n",
    "    inv_spy_a.append(inv_spy)"
   ]
  },
  {
   "cell_type": "code",
   "execution_count": null,
   "id": "429e08ea",
   "metadata": {},
   "outputs": [],
   "source": [
    "len(mean_vals)"
   ]
  },
  {
   "cell_type": "code",
   "execution_count": null,
   "id": "6dd33738",
   "metadata": {},
   "outputs": [],
   "source": [
    "spy"
   ]
  },
  {
   "cell_type": "code",
   "execution_count": null,
   "id": "591ae64c",
   "metadata": {},
   "outputs": [],
   "source": [
    "plot_ = pd.DataFrame(inv_spy_a, index=spy.index, columns=[\"SPY\"])"
   ]
  },
  {
   "cell_type": "code",
   "execution_count": null,
   "id": "0dcb983c",
   "metadata": {},
   "outputs": [],
   "source": [
    "plot_[\"RECOM\"] = mean_vals"
   ]
  },
  {
   "cell_type": "code",
   "execution_count": null,
   "id": "0518f1e3",
   "metadata": {},
   "outputs": [],
   "source": [
    "plot_"
   ]
  },
  {
   "cell_type": "code",
   "execution_count": null,
   "id": "96ebd330",
   "metadata": {},
   "outputs": [],
   "source": [
    "import plotly.express as px\n",
    "px.line(plot_, x=plot_.index, y=[\"SPY\", \"RECOM\"], template=\"plotly_dark\", labels={\"value\": \"Percentage Gain\", \"variable\": \"Strategy\"})\n",
    "# px.scatter(plot_compare, x=\"Date\", y=[\"SPY\", \"Contrarian\"], template=\"plotly_dark\", labels={\"value\": \"Percentage Gain\", \"variable\": \"Strategy\"})"
   ]
  },
  {
   "cell_type": "code",
   "execution_count": null,
   "id": "f604a5d3",
   "metadata": {},
   "outputs": [],
   "source": [
    "for ticker in gains_together:\n",
    "    print(ticker, gains_together[ticker][-1])"
   ]
  },
  {
   "cell_type": "code",
   "execution_count": null,
   "id": "3ff0e5e4",
   "metadata": {},
   "outputs": [],
   "source": [
    "from collections import defaultdict\n",
    "from time import sleep\n",
    "gains = defaultdict(list)\n",
    "for index, row in invest.iterrows():\n",
    "    gains[row[\"ticker\"]].append(calc_return(row[\"ticker\"], (datetime.strptime(row[\"month\"], \"%Y%m\") + timedelta(days=31)).strftime(\"%Y-%m\") + \"-01\", (datetime.strptime(row[\"month\"], \"%Y%m\") + timedelta(days=365))))\n",
    "    #sleep(1)"
   ]
  },
  {
   "cell_type": "code",
   "execution_count": null,
   "id": "c98690f7",
   "metadata": {},
   "outputs": [],
   "source": [
    "gains"
   ]
  },
  {
   "cell_type": "code",
   "execution_count": null,
   "id": "ffd46423",
   "metadata": {},
   "outputs": [],
   "source": [
    "from datetime import datetime, timedelta\n",
    "import numpy as np\n",
    "from collections import defaultdict\n",
    "\n",
    "# 1. Create a mapping of ticker to (start_date, gain_series)\n",
    "aligned_gains = defaultdict(list)\n",
    "start_dates = []\n",
    "\n",
    "# Extract all start dates\n",
    "for index, row in invest.iterrows():\n",
    "    start_date = datetime.strptime(row[\"month\"], \"%Y%m\") + timedelta(days=31)\n",
    "    start_date = datetime(start_date.year, start_date.month, 1)  # Normalize to 1st of month\n",
    "    start_dates.append(start_date)\n",
    "\n",
    "# 2. Reference date = earliest of all start dates\n",
    "ref_start = min(start_dates)\n",
    "\n",
    "# 3. Build aligned gain series\n",
    "for index, row in invest.iterrows():\n",
    "    ticker = row[\"ticker\"]\n",
    "    start_date = datetime.strptime(row[\"month\"], \"%Y%m\") + timedelta(days=31)\n",
    "    start_date = datetime(start_date.year, start_date.month, 1)\n",
    "    offset_days = (start_date - ref_start).days\n",
    "    end_date = min(datetime.today(), start_date + timedelta(days=365))\n",
    "    # Calculate gain\n",
    "    gain = calc_return(ticker, start_date.strftime(\"%Y-%m-%d\"), end_date.strftime(\"%Y-%m-%d\"))\n",
    "    \n",
    "    # Pad with NaNs according to offset\n",
    "    padded_gain = [np.nan] * offset_days + gain\n",
    "    aligned_gains[ticker].append(padded_gain)\n",
    "\n",
    "# 4. Determine the longest aligned series\n",
    "max_length = max(len(g) for series in aligned_gains.values() for g in series)\n",
    "\n",
    "# 5. Pad all to same length at the end\n",
    "gains_same_length = defaultdict(list)\n",
    "for ticker in aligned_gains:\n",
    "    for gain in aligned_gains[ticker]:\n",
    "        if len(gain) < max_length:\n",
    "            gain = gain + [np.nan] * (max_length - len(gain))\n",
    "        gains_same_length[ticker].append(gain)\n",
    "\n",
    "# 6. Average across all series for each ticker\n",
    "gains_together = {}\n",
    "for ticker in gains_same_length:\n",
    "    if len(gains_same_length[ticker]) > 1:\n",
    "        gains_together[ticker] = np.nanmean(gains_same_length[ticker], axis=0)\n",
    "    else:\n",
    "        gains_together[ticker] = gains_same_length[ticker][0]\n"
   ]
  },
  {
   "cell_type": "code",
   "execution_count": null,
   "id": "f423926d",
   "metadata": {},
   "outputs": [],
   "source": [
    "arr = np.array(list(gains_together.values()))\n",
    "\n",
    "# Take the mean along axis 0 (column-wise)\n",
    "mean_vals = np.nanmean(arr, axis=0)\n"
   ]
  },
  {
   "cell_type": "code",
   "execution_count": null,
   "id": "96ec2d6f",
   "metadata": {},
   "outputs": [],
   "source": [
    "mean_vals"
   ]
  },
  {
   "cell_type": "code",
   "execution_count": null,
   "id": "f2c5ec7c",
   "metadata": {},
   "outputs": [],
   "source": [
    "plot_ = pd.DataFrame(inv_spy_a, index=spy.index, columns=[\"SPY\"])"
   ]
  },
  {
   "cell_type": "code",
   "execution_count": null,
   "id": "2fd0cf02",
   "metadata": {},
   "outputs": [],
   "source": [
    "plot_[\"RECOM\"] = mean_vals"
   ]
  },
  {
   "cell_type": "code",
   "execution_count": null,
   "id": "ae8e5ef9",
   "metadata": {},
   "outputs": [],
   "source": [
    "import plotly.express as px\n",
    "px.line(plot_, x=plot_.index, y=[\"SPY\", \"RECOM\"], template=\"plotly_dark\", labels={\"value\": \"Percentage Gain\", \"variable\": \"Strategy\"})\n",
    "# px.scatter(plot_compare, x=\"Date\", y=[\"SPY\", \"Contrarian\"], template=\"plotly_dark\", labels={\"value\": \"Percentage Gain\", \"variable\": \"Strategy\"})"
   ]
  },
  {
   "cell_type": "code",
   "execution_count": null,
   "id": "bf38de4f",
   "metadata": {},
   "outputs": [],
   "source": []
  }
 ],
 "metadata": {
  "kernelspec": {
   "display_name": "most_pymc",
   "language": "python",
   "name": "python3"
  },
  "language_info": {
   "codemirror_mode": {
    "name": "ipython",
    "version": 3
   },
   "file_extension": ".py",
   "mimetype": "text/x-python",
   "name": "python",
   "nbconvert_exporter": "python",
   "pygments_lexer": "ipython3",
   "version": "3.12.6"
  }
 },
 "nbformat": 4,
 "nbformat_minor": 5
}
